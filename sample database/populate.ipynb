{
 "cells": [
  {
   "cell_type": "code",
   "execution_count": 1,
   "metadata": {},
   "outputs": [],
   "source": [
    "import mysql.connector\n",
    "import pandas as pd\n",
    "import getpass"
   ]
  },
  {
   "cell_type": "code",
   "execution_count": 2,
   "metadata": {},
   "outputs": [
    {
     "name": "stdin",
     "output_type": "stream",
     "text": [
      " ··········\n"
     ]
    }
   ],
   "source": [
    "p = getpass.getpass()"
   ]
  },
  {
   "cell_type": "code",
   "execution_count": 4,
   "metadata": {},
   "outputs": [],
   "source": [
    "mydb = mysql.connector.connect(\n",
    "  host=\"localhost\",\n",
    "  user=\"root\",\n",
    "  auth_plugin='mysql_native_password',\n",
    "  password=p,\n",
    "  database=\"usa_flights\"\n",
    ")\n",
    "mycursor = mydb.cursor()"
   ]
  },
  {
   "cell_type": "code",
   "execution_count": 5,
   "metadata": {},
   "outputs": [
    {
     "name": "stdout",
     "output_type": "stream",
     "text": [
      "[[1, 'CARRIER_DELAY'], [2, 'WEATHER_DELAY'], [3, 'NAS_DELAY'], [4, 'SECURITY_DELAY'], [5, 'LATE_AIRCRAFT_DELAY']]\n"
     ]
    }
   ],
   "source": [
    "# Populating Delay Causes\n",
    "df = pd.read_csv(\"scraping/delay_types-final.csv\", delimiter=\";\")\n",
    "sql = \"INSERT INTO Delay_Causes (id_delay,cause) VALUES (%s,%s)\"\n",
    "val = df.values.tolist()\n",
    "mycursor.executemany(sql,val)\n",
    "mydb.commit()"
   ]
  },
  {
   "cell_type": "code",
   "execution_count": 6,
   "metadata": {},
   "outputs": [],
   "source": [
    "# Populating Aircraft Types\n",
    "df = pd.read_csv(\"scraping/aircraft_types-final.csv\", delimiter=\";\")\n",
    "sql = \"INSERT INTO Aircraft_Types (id_type,description) VALUES (%s,%s)\"\n",
    "val = df.values.tolist()\n",
    "mycursor.executemany(sql,val)\n",
    "mydb.commit()"
   ]
  },
  {
   "cell_type": "code",
   "execution_count": 7,
   "metadata": {},
   "outputs": [],
   "source": [
    "# Populating Manufacturer\n",
    "df = pd.read_csv(\"scraping/manufacturers-final.csv\", delimiter=\";\")\n",
    "sql = \"INSERT INTO Manufacturer (id_manufacturer,Name) VALUES (%s,%s)\"\n",
    "val = df.values.tolist()\n",
    "mycursor.executemany(sql,val)\n",
    "mydb.commit()"
   ]
  },
  {
   "cell_type": "code",
   "execution_count": 8,
   "metadata": {},
   "outputs": [],
   "source": [
    "# Populating Aircraft Models\n",
    "df = pd.read_csv(\"scraping/aircraft_models-final.csv\", delimiter=\";\")\n",
    "sql = \"INSERT INTO Aircraft_Models (id_model,model,Manufacturer_id) VALUES (%s,%s,%s)\"\n",
    "val = [(x[0],x[2],x[1]) for x in df.values.tolist()]\n",
    "mycursor.executemany(sql,val)\n",
    "mydb.commit()"
   ]
  },
  {
   "cell_type": "code",
   "execution_count": 9,
   "metadata": {},
   "outputs": [],
   "source": [
    "# Populating Engine Types\n",
    "df = pd.read_csv(\"scraping/engine_types-final.csv\", delimiter=\";\")\n",
    "sql = \"INSERT INTO Engine_Types (id_type,name) VALUES (%s,%s)\"\n",
    "val = df.values.tolist()\n",
    "mycursor.executemany(sql,val)\n",
    "mydb.commit()"
   ]
  },
  {
   "cell_type": "code",
   "execution_count": 10,
   "metadata": {},
   "outputs": [],
   "source": [
    "# Populating States\n",
    "df = pd.read_csv(\"scraping/states-final.csv\", delimiter=\";\")\n",
    "sql = \"INSERT INTO States (abreviation,name) VALUES (%s,%s)\"\n",
    "val = df.values.tolist()\n",
    "mycursor.executemany(sql,val)\n",
    "mydb.commit()"
   ]
  },
  {
   "cell_type": "code",
   "execution_count": 11,
   "metadata": {},
   "outputs": [],
   "source": [
    "# Populating Cities\n",
    "df = pd.read_csv(\"scraping/cities-final.csv\", delimiter=\";\")\n",
    "sql = \"INSERT INTO Cities (id_city,name,States_abrev) VALUES (%s,%s,%s)\"\n",
    "val = df.values.tolist()\n",
    "mycursor.executemany(sql,val)\n",
    "mydb.commit()"
   ]
  },
  {
   "cell_type": "code",
   "execution_count": 12,
   "metadata": {},
   "outputs": [],
   "source": [
    "# Populating Companies\n",
    "df = pd.read_csv(\"scraping/companies-final.csv\", delimiter=\";\")\n",
    "sql = \"INSERT INTO Companies (id_company,name,Cities_id) VALUES (%s,%s,%s)\"\n",
    "val = df.values.tolist()\n",
    "mycursor.executemany(sql,val)\n",
    "mydb.commit()"
   ]
  },
  {
   "cell_type": "code",
   "execution_count": 13,
   "metadata": {},
   "outputs": [],
   "source": [
    "# Populating Airports\n",
    "df = pd.read_csv(\"scraping/airports-final.csv\", delimiter=\";\")\n",
    "sql = \"INSERT INTO Airports (cod,Cities_id) VALUES (%s,%s)\"\n",
    "val = df.values.tolist()\n",
    "mycursor.executemany(sql,val)\n",
    "mydb.commit()"
   ]
  },
  {
   "cell_type": "code",
   "execution_count": 14,
   "metadata": {},
   "outputs": [],
   "source": [
    "# Populating Routes\n",
    "df = pd.read_csv(\"scraping/routes-final.csv\", delimiter=\";\")\n",
    "sql = \"INSERT INTO Routes (id_route,Departure_Airport_id,Arrival_Airport_id) VALUES (%s,%s,%s)\"\n",
    "val = df.values.tolist()\n",
    "mycursor.executemany(sql,val)\n",
    "mydb.commit()"
   ]
  },
  {
   "cell_type": "code",
   "execution_count": 15,
   "metadata": {},
   "outputs": [],
   "source": [
    "# Populating Aircrafts\n",
    "df = pd.read_csv(\"scraping/aircrafts-final.csv\", delimiter=\";\")\n",
    "df = df.where(pd.notnull(df), None)\n",
    "sql = \"INSERT INTO Aircrafts (N_Number,Companys_id,Aircraft_Models_id,Engine_Types_id,Aircraft_Types_id,year) VALUES (%s,%s,%s,%s,%s,%s)\"\n",
    "val = [x[1:] for x in df.values.tolist()]\n",
    "mycursor.executemany(sql,val)\n",
    "mydb.commit()"
   ]
  },
  {
   "cell_type": "code",
   "execution_count": 16,
   "metadata": {},
   "outputs": [],
   "source": [
    "# Populating Flights with may/2020 only\n",
    "df = pd.read_csv(\"scraping/2020-05 - final.csv\", delimiter=\";\")\n",
    "df = df.where(pd.notnull(df), None)\n",
    "sql = \"INSERT INTO Flights (id_flight,Aircrafts_id,Route_id,Date,Arrival_time,Departure_time,Delay_time,Delay_Causes_id) VALUES (%s,%s,%s,%s,%s,%s,%s,%s)\"\n",
    "val = df.values.tolist()\n",
    "mycursor.executemany(sql,val)\n",
    "mydb.commit()"
   ]
  }
 ],
 "metadata": {
  "kernelspec": {
   "display_name": "Python 3",
   "language": "python",
   "name": "python3"
  },
  "language_info": {
   "codemirror_mode": {
    "name": "ipython",
    "version": 3
   },
   "file_extension": ".py",
   "mimetype": "text/x-python",
   "name": "python",
   "nbconvert_exporter": "python",
   "pygments_lexer": "ipython3",
   "version": "3.8.6"
  }
 },
 "nbformat": 4,
 "nbformat_minor": 4
}
